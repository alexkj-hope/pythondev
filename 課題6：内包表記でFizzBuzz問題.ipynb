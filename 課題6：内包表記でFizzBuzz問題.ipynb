{
 "cells": [
  {
   "cell_type": "code",
   "execution_count": 5,
   "id": "43484200",
   "metadata": {},
   "outputs": [],
   "source": [
    "def fizzbuzz_list():\n",
    "    result = [\n",
    "        \"FizzBuzz\" if i % 3 == 0 and i % 5 == 0\n",
    "        else \"Fizz\" if i % 3 == 0\n",
    "        else \"Buzz\" if i % 5 == 0\n",
    "        else str(i)\n",
    "        for i in range(1, 101)\n",
    "    ]\n",
    "    print(result)"
   ]
  }
 ],
 "metadata": {
  "kernelspec": {
   "display_name": ".venv",
   "language": "python",
   "name": "python3"
  },
  "language_info": {
   "codemirror_mode": {
    "name": "ipython",
    "version": 3
   },
   "file_extension": ".py",
   "mimetype": "text/x-python",
   "name": "python",
   "nbconvert_exporter": "python",
   "pygments_lexer": "ipython3",
   "version": "3.12.10"
  }
 },
 "nbformat": 4,
 "nbformat_minor": 5
}
