{
 "cells": [
  {
   "cell_type": "code",
   "execution_count": null,
   "id": "2d29e0cf",
   "metadata": {},
   "outputs": [],
   "source": [
    "def self_intro ():\n",
    "    name=input(\"名前を入力してください: \")\n",
    "    age=int(input(\"現在の年齢を入力してください: \"))\n",
    "    print(f\"私の名前は{name}です。来年で{age + 1} 歳になります。\")"
   ]
  }
 ],
 "metadata": {
  "kernelspec": {
   "display_name": ".venv",
   "language": "python",
   "name": "python3"
  },
  "language_info": {
   "codemirror_mode": {
    "name": "ipython",
    "version": 3
   },
   "file_extension": ".py",
   "mimetype": "text/x-python",
   "name": "python",
   "nbconvert_exporter": "python",
   "pygments_lexer": "ipython3",
   "version": "3.12.10"
  }
 },
 "nbformat": 4,
 "nbformat_minor": 5
}
