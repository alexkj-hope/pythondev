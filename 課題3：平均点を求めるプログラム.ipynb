{
 "cells": [
  {
   "cell_type": "code",
   "execution_count": null,
   "id": "e78708ce",
   "metadata": {},
   "outputs": [],
   "source": [
    "total_score = 0   # 合計点\n",
    "count = 0         # 人数\n",
    "\n",
    "while True:\n",
    "    score = int(input(\"点数を入力してください：\"))\n",
    "    \n",
    "    if score == -1:\n",
    "        break  # 入力が -1 の場合、ループ終了\n",
    "    \n",
    "    total_score += score  # 合計に加算\n",
    "    count += 1            # 人数カウント\n",
    "\n",
    "# 平均点の計算と表示\n",
    "if count > 0:\n",
    "    average = round(total_score / count, 1)  # 小数第2位で四捨五入し、小数第1位まで\n",
    "    print(f\"{count}人のテストの平均点は{average}点です\")\n",
    "else:\n",
    "    print(\"有効な点数が入力されませんでした。\")"
   ]
  }
 ],
 "metadata": {
  "language_info": {
   "name": "python"
  }
 },
 "nbformat": 4,
 "nbformat_minor": 5
}
