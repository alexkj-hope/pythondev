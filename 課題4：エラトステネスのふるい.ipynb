{
 "cells": [
  {
   "cell_type": "code",
   "execution_count": null,
   "id": "494628af",
   "metadata": {},
   "outputs": [],
   "source": [
    "# 1から100までの素数を表示（エラトステネスのふるい）\n",
    "\n",
    "for n in range(1, 101):\n",
    "    # 1は素数ではない\n",
    "    if n == 1:\n",
    "        continue\n",
    "    # 2を除く2の倍数は素数ではない\n",
    "    if n != 2 and n % 2 == 0:\n",
    "        continue\n",
    "    # 3を除く3の倍数は素数ではない\n",
    "    if n != 3 and n % 3 == 0:\n",
    "        continue\n",
    "    # 5を除く5の倍数は素数ではない\n",
    "    if n != 5 and n % 5 == 0:\n",
    "        continue\n",
    "    # 7を除く7の倍数は素数ではない\n",
    "    if n != 7 and n % 7 == 0:\n",
    "        continue\n",
    "    \n",
    "    print(n)"
   ]
  }
 ],
 "metadata": {
  "kernelspec": {
   "display_name": ".venv",
   "language": "python",
   "name": "python3"
  },
  "language_info": {
   "codemirror_mode": {
    "name": "ipython",
    "version": 3
   },
   "file_extension": ".py",
   "mimetype": "text/x-python",
   "name": "python",
   "nbconvert_exporter": "python",
   "pygments_lexer": "ipython3",
   "version": "3.12.10"
  }
 },
 "nbformat": 4,
 "nbformat_minor": 5
}
