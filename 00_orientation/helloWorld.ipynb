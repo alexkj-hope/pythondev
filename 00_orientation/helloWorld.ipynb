{
 "cells": [
  {
   "cell_type": "code",
   "execution_count": 1,
   "id": "14c81e15",
   "metadata": {},
   "outputs": [
    {
     "name": "stdout",
     "output_type": "stream",
     "text": [
      " Hello! World \n"
     ]
    }
   ],
   "source": [
    "print ( \" Hello! World \" )\n"
   ]
  },
  {
   "cell_type": "markdown",
   "id": "1cddb431",
   "metadata": {},
   "source": [
    "# 見出し１Heading1\n",
    "## 見出し２ Heading2\n",
    "### 見出し３ Heading3\n",
    "**Bold** \n",
    "__Bold__\n",
    "*斜体* *Italics* \n",
    "_斜体_ _Italics_\n",
    "***太字かつ斜体***\n",
    "***BoldandItalics***\n",
    "Bulleted List\n",
    "- Item 1\n",
    "- Item 2\n",
    "  - Sub-items\n",
    "Numbered List\n",
    "1. Item 1\n",
    "2. Item 2\n",
    "Horizontal Line\n",
    "---\n",
    "Table\n",
    "| Heading 1 | Heading 2 |\n",
    "| ------- | ------- |\n",
    "| Data 1 | Data 2 |\n",
    "| Data 3 | Data 4 |"
   ]
  }
 ],
 "metadata": {
  "kernelspec": {
   "display_name": ".venv",
   "language": "python",
   "name": "python3"
  },
  "language_info": {
   "codemirror_mode": {
    "name": "ipython",
    "version": 3
   },
   "file_extension": ".py",
   "mimetype": "text/x-python",
   "name": "python",
   "nbconvert_exporter": "python",
   "pygments_lexer": "ipython3",
   "version": "3.12.10"
  }
 },
 "nbformat": 4,
 "nbformat_minor": 5
}
